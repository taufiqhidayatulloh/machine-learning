{
  "nbformat": 4,
  "nbformat_minor": 0,
  "metadata": {
    "colab": {
      "provenance": [],
      "mount_file_id": "1-e00jxVIMjNwLAr2SFpIKqwktYHDRjSG",
      "authorship_tag": "ABX9TyNFssD+JtNnLS9GFmpfiryi",
      "include_colab_link": true
    },
    "kernelspec": {
      "name": "python3",
      "display_name": "Python 3"
    },
    "language_info": {
      "name": "python"
    }
  },
  "cells": [
    {
      "cell_type": "markdown",
      "metadata": {
        "id": "view-in-github",
        "colab_type": "text"
      },
      "source": [
        "<a href=\"https://colab.research.google.com/github/taufiqhidayatulloh/machine-learning/blob/main/praktikum_1.ipynb\" target=\"_parent\"><img src=\"https://colab.research.google.com/assets/colab-badge.svg\" alt=\"Open In Colab\"/></a>"
      ]
    },
    {
      "cell_type": "markdown",
      "source": [
        "# **PRAKTIKUM 1 - Data Imputation**\n",
        "Nama: Ahmad Taufiq Hidayatulloh<br>\n",
        "NIM: 2241720207<br>\n",
        "Kelas: TI-3D<br>"
      ],
      "metadata": {
        "id": "jM8sJjnYN4_4"
      }
    },
    {
      "cell_type": "code",
      "execution_count": null,
      "metadata": {
        "colab": {
          "base_uri": "https://localhost:8080/"
        },
        "id": "KTgeGWLyNN-H",
        "outputId": "fa6cdc17-0764-4046-917a-26ed0f6cf415"
      },
      "outputs": [
        {
          "output_type": "stream",
          "name": "stdout",
          "text": [
            "Mounted at /content/drive\n"
          ]
        }
      ],
      "source": [
        "from google.colab import drive\n",
        "\n",
        "#Accessing My Google Drive\n",
        "drive.mount('/content/drive')"
      ]
    },
    {
      "cell_type": "markdown",
      "source": [
        "## **Langkah 1**"
      ],
      "metadata": {
        "id": "4VwqKK5BPZPt"
      }
    }
  ]
}